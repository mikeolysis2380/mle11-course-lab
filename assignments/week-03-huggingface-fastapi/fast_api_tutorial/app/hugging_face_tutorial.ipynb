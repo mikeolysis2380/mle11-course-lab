{
 "cells": [
  {
   "attachments": {},
   "cell_type": "markdown",
   "metadata": {},
   "source": [
    "<p align = \"center\" draggable=”false” ><img src=\"https://user-images.githubusercontent.com/37101144/161836199-fdb0219d-0361-4988-bf26-48b0fad160a3.png\"\n",
    "     width=\"200px\"\n",
    "     height=\"auto\"/>\n",
    "</p>\n",
    "\n",
    "# <h1 align=\"center\" id=\"heading\">FastAPI Web App with Hugging Face Transformers</h1>\n",
    "\n",
    "<hr>\n",
    "\n",
    "\n",
    "### ☑️ Objectives\n",
    "At the end of this session, you will be able to:\n",
    "- [ ] Interact with the Hugging Face API\n",
    "- [ ] Build a simple web app using Fast API\n",
    "- [ ] Create an API endpoint for your selected pre-trained model"
   ]
  },
  {
   "attachments": {},
   "cell_type": "markdown",
   "metadata": {},
   "source": [
    "# PART 1: Hugging Face Model Hub\n",
    "\n",
    "First things first: We need to make a Hugging Face account! This is a free service that allows you to access pre-trained models. You can also upload your own models to the Hugging Face API!\n",
    "\n",
    "## 1.1 Create an account on Hugging Face\n",
    "\n",
    "1. Navigate to [Hugging Face](https://huggingface.co/) and click on the \"Sign Up\" button in the top right corner.\n",
    "\n",
    "2. Complete the sign-up process, and ensure you have verified your email address!\n",
    "\n",
    "## 1.2 Create a Hugging Face token\n",
    "\n",
    "Now that you have an account, you need to create a token. This token will allow you to access Hugging Face resources from your personal computer. While this is not always strictly necessary, it is a good idea to create a token for your own security.\n",
    "\n",
    "1. Navigate to your [Hugging Face profile](https://huggingface.co/settings/token) and click on the \"New token\" button.\n",
    "\n",
    "2. Once you have created a token, copy it and save it in the `.env` file in the root directory of this repository. \n",
    "\n",
    "3. Ensure that you have added the `.env` file to your `.gitignore` file. This will make sure that your token is not shared with the world!\n",
    "\n",
    "## 1.3 Browsing the Hugging Face Model Hub\n",
    "\n",
    "Now that you have an account and a token, you can start browsing the Hugging Face Model Hub. The Model Hub is a collection of pre-trained models that you can use for a variety of ML tasks.\n",
    "\n",
    "We're going to focus on translation this week, so let's start by browsing the NLP models. \n",
    "\n",
    "1. Navigate to the [NLP models](https://huggingface.co/models) page and click on the `+23 Tasks` (your number might be a bit different) button in the top left corner of the page. \n",
    "\n",
    "2. Select whatever task you want to explore. In this case, we're going to choose \"Translation\" and we'll select the [`t5-small`](https://huggingface.co/t5-small) model. \n",
    "\n",
    "3. Once you have selected a model, you can explore the model's documentation. This documentation will tell you how to use the model, and what it was trained on.\n",
    "\n",
    "4. You can also quickly import the model using the \"</> Use in Transformers\" button. This will give you a code snippet that you can use to import the model into your own code!\n",
    "\n",
    "Now that you have a model in mind, let's start working towards building a web app!"
   ]
  },
  {
   "attachments": {},
   "cell_type": "markdown",
   "metadata": {},
   "source": [
    "## PART 2: Hugging Face Pipelines\n",
    "\n",
    "Now that we've explored the Hugging Face Model Hub, let's take a look at the Hugging Face Pipelines. Pipelines are a simple way to use pre-trained models. They allow you to quickly and easily use pre-trained models without having to write any code!\n",
    "\n",
    "### 2.1 Using the Hugging Face Pipelines\n",
    "\n",
    "1. Navigate to the [Hugging Face Pipelines](https://huggingface.co/transformers/main_classes/pipelines.html) documentation page.\n",
    "\n",
    "2. Scroll down the TranslationPipeline to check out the documentation for the `pipeline` function we'll be using!"
   ]
  },
  {
   "cell_type": "code",
   "execution_count": 6,
   "metadata": {},
   "outputs": [
    {
     "ename": "TypeError",
     "evalue": "'NoneType' object is not callable",
     "output_type": "error",
     "traceback": [
      "\u001b[0;31m---------------------------------------------------------------------------\u001b[0m",
      "\u001b[0;31mTypeError\u001b[0m                                 Traceback (most recent call last)",
      "Cell \u001b[0;32mIn[6], line 12\u001b[0m\n\u001b[1;32m      1\u001b[0m \u001b[39m#!pip install transformers\u001b[39;00m\n\u001b[1;32m      2\u001b[0m \u001b[39m#!pip install sentencepiece\u001b[39;00m\n\u001b[1;32m      3\u001b[0m \n\u001b[0;32m   (...)\u001b[0m\n\u001b[1;32m      7\u001b[0m \u001b[39m#import transformers\u001b[39;00m\n\u001b[1;32m      8\u001b[0m \u001b[39m#import torch\u001b[39;00m\n\u001b[1;32m     10\u001b[0m \u001b[39mfrom\u001b[39;00m \u001b[39mtransformers\u001b[39;00m \u001b[39mimport\u001b[39;00m T5Tokenizer, T5Model\n\u001b[0;32m---> 12\u001b[0m tokenizer \u001b[39m=\u001b[39m T5Tokenizer\u001b[39m.\u001b[39;49mfrom_pretrained(\u001b[39m\"\u001b[39;49m\u001b[39mt5-small\u001b[39;49m\u001b[39m\"\u001b[39;49m)\n\u001b[1;32m     13\u001b[0m model \u001b[39m=\u001b[39m T5Model\u001b[39m.\u001b[39mfrom_pretrained(\u001b[39m\"\u001b[39m\u001b[39mt5-small\u001b[39m\u001b[39m\"\u001b[39m)\n\u001b[1;32m     15\u001b[0m input_ids \u001b[39m=\u001b[39m tokenizer(\n\u001b[1;32m     16\u001b[0m     \u001b[39m\"\u001b[39m\u001b[39mStudies have been shown that owning a dog is good for you\u001b[39m\u001b[39m\"\u001b[39m, return_tensors\u001b[39m=\u001b[39m\u001b[39m\"\u001b[39m\u001b[39mpt\u001b[39m\u001b[39m\"\u001b[39m\n\u001b[1;32m     17\u001b[0m )\u001b[39m.\u001b[39minput_ids  \u001b[39m# Batch size 1\u001b[39;00m\n",
      "\u001b[0;31mTypeError\u001b[0m: 'NoneType' object is not callable"
     ]
    }
   ],
   "source": [
    "#!pip install transformers\n",
    "#!pip install sentencepiece\n",
    "\n",
    "#!pip install datsets transformers[sentencepiece]\n",
    "#!pip install sentencepiece\n",
    "\n",
    "#import transformers\n",
    "#import torch\n",
    "\n",
    "from transformers import T5Tokenizer, T5Model\n",
    "\n",
    "tokenizer = T5Tokenizer.from_pretrained(\"t5-small\")\n",
    "model = T5Model.from_pretrained(\"t5-small\")\n",
    "\n",
    "input_ids = tokenizer(\n",
    "    \"Studies have been shown that owning a dog is good for you\", return_tensors=\"pt\"\n",
    ").input_ids  # Batch size 1\n",
    "decoder_input_ids = tokenizer(\"Studies show that\", return_tensors=\"pt\").input_ids  # Batch size 1\n",
    "\n",
    "# forward pass\n",
    "outputs = model(input_ids=input_ids, decoder_input_ids=decoder_input_ids)\n",
    "last_hidden_states = outputs.last_hidden_state\n",
    "\n",
    "\n",
    "\n",
    "\"\"\"\n",
    "We're going to use the pipeline API to do inference on a pretrained model.\n",
    "\n",
    "We'll be making a translation pipeline, using the model you selected above!\n",
    "\"\"\"\n"
   ]
  },
  {
   "attachments": {},
   "cell_type": "markdown",
   "metadata": {},
   "source": [
    "### 2.2 Save the pipeline locally\n",
    "\n",
    "Now that we know how to use the `pipeline` function, let's save it locally so we can use it in our web app later without needing to download it every time we run the app."
   ]
  },
  {
   "cell_type": "code",
   "execution_count": 3,
   "metadata": {},
   "outputs": [
    {
     "ename": "TypeError",
     "evalue": "'NoneType' object is not callable",
     "output_type": "error",
     "traceback": [
      "\u001b[0;31m---------------------------------------------------------------------------\u001b[0m",
      "\u001b[0;31mTypeError\u001b[0m                                 Traceback (most recent call last)",
      "Cell \u001b[0;32mIn[3], line 2\u001b[0m\n\u001b[1;32m      1\u001b[0m \u001b[39m# test the pipeline\u001b[39;00m\n\u001b[0;32m----> 2\u001b[0m \u001b[39mprint\u001b[39m(pipeline(\u001b[39m'\u001b[39;49m\u001b[39mHello World!\u001b[39;49m\u001b[39m'\u001b[39;49m))\n\u001b[1;32m      4\u001b[0m \u001b[39m# Save the pipeline\u001b[39;00m\n\u001b[1;32m      5\u001b[0m model_name \u001b[39m=\u001b[39m \u001b[39mNone\u001b[39;00m \u001b[39m# add a name for your model\u001b[39;00m\n",
      "\u001b[0;31mTypeError\u001b[0m: 'NoneType' object is not callable"
     ]
    }
   ],
   "source": [
    "# test the pipeline\n",
    "print(pipeline('Hello World!'))\n",
    "\n",
    "# Save the pipeline\n",
    "model_name = None # add a name for your model\n",
    "pipeline.save_pretrained('fast_api_tutorial/app/model/' + model_name)"
   ]
  },
  {
   "attachments": {},
   "cell_type": "markdown",
   "metadata": {},
   "source": [
    "# CONCLUSION\n",
    "\n",
    "Now that you have a Hugging Face account, a token, and saved the pipeline locally, you're ready to start building your web app!\n",
    "\n",
    "Let's get out of this notebook, and into the `fast_api_tutorial` subdirectory!"
   ]
  }
 ],
 "metadata": {
  "kernelspec": {
   "display_name": "base",
   "language": "python",
   "name": "python3"
  },
  "language_info": {
   "codemirror_mode": {
    "name": "ipython",
    "version": 3
   },
   "file_extension": ".py",
   "mimetype": "text/x-python",
   "name": "python",
   "nbconvert_exporter": "python",
   "pygments_lexer": "ipython3",
   "version": "3.9.7"
  },
  "orig_nbformat": 4,
  "vscode": {
   "interpreter": {
    "hash": "eb126e4c36e2d00de3c3ad418751ba689f8cd56e28a119217cb12f3868df640c"
   }
  }
 },
 "nbformat": 4,
 "nbformat_minor": 2
}
